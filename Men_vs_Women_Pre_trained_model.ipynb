{
  "nbformat": 4,
  "nbformat_minor": 0,
  "metadata": {
    "colab": {
      "name": "Men vs Women Pre-trained model.ipynb",
      "provenance": [],
      "collapsed_sections": [],
      "authorship_tag": "ABX9TyO/8SzOgtthxjgirv1DiZUN",
      "include_colab_link": true
    },
    "kernelspec": {
      "name": "python3",
      "display_name": "Python 3"
    }
  },
  "cells": [
    {
      "cell_type": "markdown",
      "metadata": {
        "id": "view-in-github",
        "colab_type": "text"
      },
      "source": [
        "<a href=\"https://colab.research.google.com/github/raiutkarsh09/tensorflow-in-practice/blob/master/Men_vs_Women_Pre_trained_model.ipynb\" target=\"_parent\"><img src=\"https://colab.research.google.com/assets/colab-badge.svg\" alt=\"Open In Colab\"/></a>"
      ]
    },
    {
      "cell_type": "code",
      "metadata": {
        "id": "IbokXd_oavy5",
        "colab_type": "code",
        "outputId": "64a34bcf-9cdd-41b7-d92c-91374d0ead6c",
        "colab": {
          "resources": {
            "http://localhost:8080/nbextensions/google.colab/files.js": {
              "data": "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",
              "ok": true,
              "headers": [
                [
                  "content-type",
                  "application/javascript"
                ]
              ],
              "status": 200,
              "status_text": ""
            }
          },
          "base_uri": "https://localhost:8080/",
          "height": 111
        }
      },
      "source": [
        "from google.colab import files\n",
        "files.upload()"
      ],
      "execution_count": 0,
      "outputs": [
        {
          "output_type": "display_data",
          "data": {
            "text/html": [
              "\n",
              "     <input type=\"file\" id=\"files-37e796c7-9d84-4d51-9193-09179c11b538\" name=\"files[]\" multiple disabled />\n",
              "     <output id=\"result-37e796c7-9d84-4d51-9193-09179c11b538\">\n",
              "      Upload widget is only available when the cell has been executed in the\n",
              "      current browser session. Please rerun this cell to enable.\n",
              "      </output>\n",
              "      <script src=\"/nbextensions/google.colab/files.js\"></script> "
            ],
            "text/plain": [
              "<IPython.core.display.HTML object>"
            ]
          },
          "metadata": {
            "tags": []
          }
        },
        {
          "output_type": "stream",
          "text": [
            "Saving cookies.txt to cookies.txt\n"
          ],
          "name": "stdout"
        },
        {
          "output_type": "execute_result",
          "data": {
            "text/plain": [
              "{'cookies.txt': b'# HTTP Cookie File downloaded with cookies.txt by Genuinous @genuinous\\n# This file can be used by wget, curl, aria2c and other standard compliant tools.\\n# Usage Examples:\\n#   1) wget -x --load-cookies cookies.txt \"https://www.kaggle.com/playlist/men-women-classification\"\\n#   2) curl --cookie cookies.txt \"https://www.kaggle.com/playlist/men-women-classification\"\\n#   3) aria2c --load-cookies cookies.txt \"https://www.kaggle.com/playlist/men-women-classification\"\\n#\\nwww.kaggle.com\\tFALSE\\t/signin-google\\tTRUE\\t1591477796\\t.AspNetCore.Correlation.Google.Pv3kyPTbSNgdSKuQ0e2aNyQfziQl7YAINTL7t67jHws\\tN\\nwww.kaggle.com\\tFALSE\\t/signin-google\\tTRUE\\t1591477798\\t.AspNetCore.Correlation.Google.k5VQuI_m4xBIbNUDPuFHx0kt9hY_PuYC4bEXuhHkeJg\\tN\\nwww.kaggle.com\\tFALSE\\t/\\tFALSE\\t1607064188\\tka_sessionid\\tce4549a4e11e5cbf6fbcc8215a2ff6c8\\n.kaggle.com\\tTRUE\\t/\\tFALSE\\t1654415438\\t_ga\\tGA1.2.234384729.1591304859\\n.kaggle.com\\tTRUE\\t/\\tFALSE\\t1591429838\\t_gid\\tGA1.2.1538988222.1591304859\\nwww.kaggle.com\\tFALSE\\t/\\tTRUE\\t1593897005\\t.ASPXAUTH\\t40EF91D14A31F834AA3F521964AF2321AFF902067B702BC201B7253C95FD4FF7F1236346DCCE6DD2BC100FC0404EDDA5C206DB925B6E232DE2D246A40F5749F35EF5608F08312E51E5E47EB776C8E8DAC8BE396F\\nwww.kaggle.com\\tFALSE\\t/\\tTRUE\\t0\\tCSRF-TOKEN\\tCfDJ8LdUzqlsSWBPr4Ce3rb9VL_BTcDwITmegIui5cPcc44BYs8MU_bczDD_IxOZmd4I4-r7wC7AEzxAFobpZCHC-wQxbhtRV9bGnueJUthmUO5IZYBaciM2sZxVGGw_zZcFaET2LzO7GoEX5jCVkRXpzG4\\nwww.kaggle.com\\tFALSE\\t/\\tFALSE\\t0\\tGCLB\\tCOyxv6D4qrjuOQ\\n.kaggle.com\\tTRUE\\t/\\tFALSE\\t1591948004\\tintercom-session-koj6gxx6\\tR2ZpbTZtdHZ1OU9LeTdXd0ZUZG1sVnBQMFdsRE12MnZRUXViZTVrWjRqRFlla3ZySHRTR3ZpNEZOamkwTElQNi0tRzdra1dMd2RWZUJDNXFQeEduckRBZz09--dba95c52098773df3e93225e1b327eabd711b307\\nwww.kaggle.com\\tFALSE\\t/\\tTRUE\\t0\\tXSRF-TOKEN\\tCfDJ8LdUzqlsSWBPr4Ce3rb9VL9QKpDTQOxkmYDDdr3q42opy1_sOG-OGX4o6kgANjhK5_EZUsFcH9nCSlW9kF3anEpEVBMZ2IzdchWFEFqA9ynsdb293iE-ycGJ2wrRD6Tb80YePNpgOiuDvlKs9LOE3FhWG2tibT74k6MeJfcm_HMBxd1wCh2-gE_ZASXi2-nXrw\\nwww.kaggle.com\\tFALSE\\t/\\tTRUE\\t0\\tCLIENT-TOKEN\\teyJhbGciOiJub25lIiwidHlwIjoiSldUIn0.eyJpc3MiOiJrYWdnbGUiLCJhdWQiOiJjbGllbnQiLCJzdWIiOiJyYWl1dGthcnNoMDkiLCJuYnQiOiIyMDIwLTA2LTA1VDA3OjUwOjM1Ljk4MTQxMjJaIiwiaWF0IjoiMjAyMC0wNi0wNVQwNzo1MDozNS45ODE0MTIyWiIsImp0aSI6IjRjYTdmMWNjLTdlMTItNDQ3NS1iMzRmLWJjMDExOTk5ZTVjNSIsImV4cCI6IjIwMjAtMDctMDVUMDc6NTA6MzUuOTgxNDEyMloiLCJ1aWQiOjUwMjAwODAsImZmIjpbIkZsZXhpYmxlR3B1IiwiS2VybmVsc0ludGVybmV0IiwiRGF0YUV4cGxvcmVyVjIiLCJEYXRhU291cmNlU2VsZWN0b3JWMiIsIktlcm5lbHNWaWV3ZXJJbm5lclRhYmxlT2ZDb250ZW50cyIsIkZvcnVtV2F0Y2hEZXByZWNhdGVkIiwiTmV3S2VybmVsV2VsY29tZSIsIk1kZUltYWdlVXBsb2FkZXIiLCJLZXJuZWxzUXVpY2tWZXJzaW9ucyIsIkRpc2FibGVDdXN0b21QYWNrYWdlcyIsIkRvY2tlck1vZGFsU2VsZWN0b3IiLCJQaG9uZVZlcmlmeUZvckdwdSIsIkNsb3VkU2VydmljZXNLZXJuZWxJbnRlZyIsIlVzZXJTZWNyZXRzS2VybmVsSW50ZWciLCJOYXZpZ2F0aW9uUmVkZXNpZ24iLCJLZXJuZWxzU25pcHBldHMiLCJLZXJuZWxXZWxjb21lTG9hZEZyb21VcmwiLCJUcHVLZXJuZWxJbnRlZyIsIktlcm5lbHNGaXJlYmFzZUxvbmdQb2xsaW5nIiwiRGF0YXNldExpdmVNb3VudCIsIkVuYWJsZVJhcGlkYXNoIiwiRGF0YXNldHNUYXNrT25Ob3RlYm9va0xpc3RpbmciLCJEYXRhc2V0c0RhdGFFeHBsb3JlclYzVHJlZUxlZnQiXSwicGlkIjoia2FnZ2xlLTE2MTYwNyIsInN2YyI6IndlYi1mZSIsInNkYWsiOiJBSXphU3lEQU5HWEZIdFNJVmM1MU1JZEd3ZzRtUUZnbTNvTnJLb28iLCJibGQiOiI0NDk4ZjkwMTMyM2ZkNTQ2YTQ4NjIzZjI5NTM5NWRjMGI1Y2ExZjIyIn0.\\n.kaggle.com\\tTRUE\\t/\\tFALSE\\t1591343498\\t_gat_gtag_UA_12629138_1\\t1\\n'}"
            ]
          },
          "metadata": {
            "tags": []
          },
          "execution_count": 7
        }
      ]
    },
    {
      "cell_type": "code",
      "metadata": {
        "id": "iqNzNnIFc4Yp",
        "colab_type": "code",
        "outputId": "669bd2a3-969e-4ee7-9a54-117b22033e68",
        "colab": {
          "base_uri": "https://localhost:8080/",
          "height": 306
        }
      },
      "source": [
        "!wget -x --load-cookies cookies.txt \"https://www.kaggle.com/playlist/men-women-classification/download\" -O /tmp/data.zip"
      ],
      "execution_count": 0,
      "outputs": [
        {
          "output_type": "stream",
          "text": [
            "--2020-06-05 07:51:28--  https://www.kaggle.com/playlist/men-women-classification/download\n",
            "Resolving www.kaggle.com (www.kaggle.com)... 35.244.233.98\n",
            "Connecting to www.kaggle.com (www.kaggle.com)|35.244.233.98|:443... connected.\n",
            "HTTP request sent, awaiting response... 302 Found\n",
            "Location: https://storage.googleapis.com/kaggle-data-sets/160647%2F367971%2Fbundle%2Farchive.zip?GoogleAccessId=gcp-kaggle-com@kaggle-161607.iam.gserviceaccount.com&Expires=1591602689&Signature=UL6GZA1XLNiJBrCUM0EhIymVNaOrsypFqUSRDQX4446aKL0HWmYLOLS6sMYbcaDFGJm72UzkMpT2cf2WspjvBMoN%2BtmljJuFRu5J22CQX1mFzJTdW6NFSwNmCQkbpbvDljhse%2BmNLjTC7yjikEz2WHHQIf37CJf9uvxRo0L19zjUUUhwjWD4DKd7FafRW8D32TwHr1h65fNpE2N9uQkkGu%2BK8LLqkOPLCpE0b%2B4HCVsSGeNHnXibXzH4h8KJsJ4TkW1A%2FF66z%2BO8BjLQX%2BLclZrw0kYuhaeXq3pxBJRQQk5uXSgrwD8A7o2Mjp9aakQe5sRwVLlpWEqX3XN0LXiS6w%3D%3D [following]\n",
            "--2020-06-05 07:51:28--  https://storage.googleapis.com/kaggle-data-sets/160647%2F367971%2Fbundle%2Farchive.zip?GoogleAccessId=gcp-kaggle-com@kaggle-161607.iam.gserviceaccount.com&Expires=1591602689&Signature=UL6GZA1XLNiJBrCUM0EhIymVNaOrsypFqUSRDQX4446aKL0HWmYLOLS6sMYbcaDFGJm72UzkMpT2cf2WspjvBMoN%2BtmljJuFRu5J22CQX1mFzJTdW6NFSwNmCQkbpbvDljhse%2BmNLjTC7yjikEz2WHHQIf37CJf9uvxRo0L19zjUUUhwjWD4DKd7FafRW8D32TwHr1h65fNpE2N9uQkkGu%2BK8LLqkOPLCpE0b%2B4HCVsSGeNHnXibXzH4h8KJsJ4TkW1A%2FF66z%2BO8BjLQX%2BLclZrw0kYuhaeXq3pxBJRQQk5uXSgrwD8A7o2Mjp9aakQe5sRwVLlpWEqX3XN0LXiS6w%3D%3D\n",
            "Resolving storage.googleapis.com (storage.googleapis.com)... 173.194.214.128, 2607:f8b0:400c:c12::80\n",
            "Connecting to storage.googleapis.com (storage.googleapis.com)|173.194.214.128|:443... connected.\n",
            "HTTP request sent, awaiting response... 200 OK\n",
            "Length: 1272414002 (1.2G) [application/zip]\n",
            "Saving to: ‘/tmp/data.zip’\n",
            "\n",
            "/tmp/data.zip       100%[===================>]   1.18G   127MB/s    in 9.8s    \n",
            "\n",
            "2020-06-05 07:51:39 (124 MB/s) - ‘/tmp/data.zip’ saved [1272414002/1272414002]\n",
            "\n"
          ],
          "name": "stdout"
        }
      ]
    },
    {
      "cell_type": "markdown",
      "metadata": {
        "id": "yvogQLKnew64",
        "colab_type": "text"
      },
      "source": [
        "Extracting ZipFile "
      ]
    },
    {
      "cell_type": "code",
      "metadata": {
        "id": "X5qngK5PdwCZ",
        "colab_type": "code",
        "colab": {}
      },
      "source": [
        "import os\n",
        "import zipfile\n",
        "local_zip='/tmp/data.zip'\n",
        "zip_ref=zipfile.ZipFile(local_zip,'r')\n",
        "zip_ref.extractall('/tmp/men-v-women')\n",
        "zip_ref.close()"
      ],
      "execution_count": 0,
      "outputs": []
    },
    {
      "cell_type": "markdown",
      "metadata": {
        "id": "1tmv8wgbe7px",
        "colab_type": "text"
      },
      "source": [
        "Size Of Data"
      ]
    },
    {
      "cell_type": "code",
      "metadata": {
        "id": "cVjehNsxfQu4",
        "colab_type": "code",
        "outputId": "8743d95b-0c96-43c1-eec5-59d275689167",
        "colab": {
          "base_uri": "https://localhost:8080/",
          "height": 50
        }
      },
      "source": [
        "print(len(os.listdir('/tmp/men-v-women/men/')))\n",
        "print(len(os.listdir('/tmp/men-v-women/women/"
      ],
      "execution_count": 0,
      "outputs": [
        {
          "output_type": "stream",
          "text": [
            "1418\n",
            "1912\n"
          ],
          "name": "stdout"
        }
      ]
    },
    {
      "cell_type": "markdown",
      "metadata": {
        "id": "MpxoLQgyfk8D",
        "colab_type": "text"
      },
      "source": [
        "Creating New Directories For Testing and Training"
      ]
    },
    {
      "cell_type": "code",
      "metadata": {
        "id": "lQIA5IxafwYf",
        "colab_type": "code",
        "colab": {}
      },
      "source": [
        "try:\n",
        "  os.mkdir('/tmp/men-v-women/training')\n",
        "  os.mkdir('/tmp/men-v-women/testing')\n",
        "  os.mkdir('/tmp/men-v-women/training/men')\n",
        "  os.mkdir('/tmp/men-v-women/training/women')\n",
        "  os.mkdir('/tmp/men-v-women/testing/men')\n",
        "  os.mkdir('/tmp/men-v-women/testing/women')\n",
        "\n",
        "except OSError:\n",
        "  pass"
      ],
      "execution_count": 0,
      "outputs": []
    },
    {
      "cell_type": "markdown",
      "metadata": {
        "id": "k0KTT40dgVOs",
        "colab_type": "text"
      },
      "source": [
        "Splitting the data in Testing and training"
      ]
    },
    {
      "cell_type": "code",
      "metadata": {
        "id": "4Ced0tWYgc-L",
        "colab_type": "code",
        "colab": {}
      },
      "source": [
        "import random\n",
        "from shutil import copyfile\n",
        "\n",
        "\n",
        "def split_data(SOURCE, TRAINING, TESTING, SPLIT_SIZE):\n",
        "    files = []\n",
        "    for filename in os.listdir(SOURCE):\n",
        "        file = SOURCE + filename\n",
        "        if os.path.getsize(file) > 0:\n",
        "            files.append(filename)\n",
        "        else:\n",
        "            print(filename + \" is zero length, so ignoring.\")\n",
        "\n",
        "    training_length = int(len(files) * SPLIT_SIZE)\n",
        "    testing_length = int(len(files) - training_length)\n",
        "    shuffled_set = random.sample(files, len(files))\n",
        "    training_set = shuffled_set[0:training_length]\n",
        "    testing_set = shuffled_set[:testing_length]\n",
        "\n",
        "    for filename in training_set:\n",
        "        this_file = SOURCE + filename\n",
        "        destination = TRAINING + filename\n",
        "        copyfile(this_file, destination)\n",
        "\n",
        "    for filename in testing_set:\n",
        "        this_file = SOURCE + filename\n",
        "        destination = TESTING + filename\n",
        "        copyfile(this_file, destination)\n",
        "\n",
        "\n",
        "MEN_SOURCE_DIR = \"/tmp/men-v-women/men/\"\n",
        "TRAINING_MEN_DIR = \"/tmp/men-v-women/training/men/\"\n",
        "TESTING_MEN_DIR = \"/tmp/men-v-women/testing/men/\"\n",
        "WOMEN_SOURCE_DIR = \"/tmp/men-v-women/women/\"\n",
        "TRAINING_WOMEN_DIR = \"/tmp/men-v-women/training/women/\"\n",
        "TESTING_WOMEN_DIR = \"/tmp/men-v-women/testing/women/\"\n",
        "\n",
        "split_size=0.9\n",
        "split_data(MEN_SOURCE_DIR,TRAINING_MEN_DIR,TESTING_MEN_DIR,split_size)\n",
        "split_data(WOMEN_SOURCE_DIR,TRAINING_WOMEN_DIR,TESTING_WOMEN_DIR,split_size)"
      ],
      "execution_count": 0,
      "outputs": []
    },
    {
      "cell_type": "code",
      "metadata": {
        "id": "tB3rgwWHiocS",
        "colab_type": "code",
        "outputId": "f8e59d81-53ff-42b4-c67f-f8a24a9c5d2e",
        "colab": {
          "base_uri": "https://localhost:8080/",
          "height": 84
        }
      },
      "source": [
        "print(len(os.listdir(\"/tmp/men-v-women/training/men/\")))\n",
        "print(len(os.listdir(\"/tmp/men-v-women/testing/men/\")))\n",
        "print(len(os.listdir(\"/tmp/men-v-women/training/women/\")))\n",
        "print(len(os.listdir(\"/tmp/men-v-women/testing/women/\")))"
      ],
      "execution_count": 0,
      "outputs": [
        {
          "output_type": "stream",
          "text": [
            "1276\n",
            "142\n",
            "1720\n",
            "192\n"
          ],
          "name": "stdout"
        }
      ]
    },
    {
      "cell_type": "markdown",
      "metadata": {
        "id": "dDD8bO74jCLe",
        "colab_type": "text"
      },
      "source": [
        "Create the Model"
      ]
    },
    {
      "cell_type": "code",
      "metadata": {
        "id": "7ctwki3zjBGp",
        "colab_type": "code",
        "colab": {}
      },
      "source": [
        "import tensorflow as tf\n",
        "from tensorflow import keras\n",
        "\n",
        "\n",
        "model = tf.keras.models.Sequential([\n",
        "    tf.keras.layers.Conv2D(16, (3, 3), activation='relu', input_shape=(300, 300, 3)),\n",
        "    tf.keras.layers.MaxPooling2D(2, 2),\n",
        "    tf.keras.layers.Conv2D(32, (3, 3), activation='relu'),\n",
        "    tf.keras.layers.MaxPooling2D(2, 2),\n",
        "    tf.keras.layers.Conv2D(64, (3, 3), activation='relu'),\n",
        "    tf.keras.layers.MaxPooling2D(2, 2),\n",
        "    tf.keras.layers.Flatten(),\n",
        "    tf.keras.layers.Dense(512, activation='relu'),\n",
        "    tf.keras.layers.Dense(1, activation='sigmoid')\n",
        "])\n"
      ],
      "execution_count": 0,
      "outputs": []
    },
    {
      "cell_type": "markdown",
      "metadata": {
        "id": "XzSLpOaOjk1A",
        "colab_type": "text"
      },
      "source": [
        "Compiling the Model"
      ]
    },
    {
      "cell_type": "code",
      "metadata": {
        "id": "mg_tVmEYjpHJ",
        "colab_type": "code",
        "colab": {}
      },
      "source": [
        "from tensorflow.keras.optimizers import RMSprop\n",
        "model.compile(optimizer=RMSprop(lr=0.001),loss='binary_crossentropy',metrics=['accuracy'])"
      ],
      "execution_count": 0,
      "outputs": []
    },
    {
      "cell_type": "markdown",
      "metadata": {
        "id": "4Jvb1xUcjXOa",
        "colab_type": "text"
      },
      "source": [
        "Creating Training and Testing Datagen"
      ]
    },
    {
      "cell_type": "code",
      "metadata": {
        "id": "L8ErcqbCjcxn",
        "colab_type": "code",
        "outputId": "70032e2f-f822-4b3b-b712-9021c20a27aa",
        "colab": {
          "base_uri": "https://localhost:8080/",
          "height": 50
        }
      },
      "source": [
        "from keras.preprocessing.image import ImageDataGenerator\n",
        "train_dir='/tmp/men-v-women/training'\n",
        "test_dir='/tmp/men-v-women/testing'\n",
        "train_datagen = ImageDataGenerator(\n",
        "    rescale=1./255,\n",
        "    rotation_range=40,\n",
        "    width_shift_range=0.2,\n",
        "    height_shift_range=0.2,\n",
        "    zoom_range=0.2,\n",
        "    horizontal_flip=True,\n",
        "    shear_range=0.2\n",
        ")\n",
        "\n",
        "test_datagen = ImageDataGenerator(rescale=1./255)\n",
        "\n",
        "train_generator=train_datagen.flow_from_directory(train_dir,batch_size=300, target_size=(300,300),class_mode='binary')\n",
        "validation_data=test_datagen.flow_from_directory(test_dir,\n",
        "                                                       target_size=(300,300),\n",
        "                                                       batch_size=30,\n",
        "                                                       class_mode='binary')"
      ],
      "execution_count": 0,
      "outputs": [
        {
          "output_type": "stream",
          "text": [
            "Found 2979 images belonging to 2 classes.\n",
            "Found 331 images belonging to 2 classes.\n"
          ],
          "name": "stdout"
        }
      ]
    },
    {
      "cell_type": "code",
      "metadata": {
        "id": "dKBcP7lPmqc3",
        "colab_type": "code",
        "outputId": "88c57fe8-9d47-4742-c82c-59a7f66fca19",
        "colab": {
          "base_uri": "https://localhost:8080/",
          "height": 1000
        }
      },
      "source": [
        "history=model.fit(\n",
        "    train_generator,\n",
        "    epochs=50,\n",
        "    steps_per_epoch=10,\n",
        "    verbose=1,\n",
        "    validation_data=validation_data,\n",
        "    validation_steps=11\n",
        ")"
      ],
      "execution_count": 0,
      "outputs": [
        {
          "output_type": "stream",
          "text": [
            "Epoch 1/50\n",
            "10/10 [==============================] - 303s 30s/step - loss: 7.7776 - accuracy: 0.5341 - val_loss: 0.7432 - val_accuracy: 0.4424\n",
            "Epoch 2/50\n",
            "10/10 [==============================] - 297s 30s/step - loss: 0.6652 - accuracy: 0.6059 - val_loss: 0.6556 - val_accuracy: 0.5909\n",
            "Epoch 3/50\n",
            "10/10 [==============================] - 296s 30s/step - loss: 0.6588 - accuracy: 0.6042 - val_loss: 0.6566 - val_accuracy: 0.5939\n",
            "Epoch 4/50\n",
            "10/10 [==============================] - 295s 29s/step - loss: 0.6543 - accuracy: 0.6036 - val_loss: 0.6420 - val_accuracy: 0.6061\n",
            "Epoch 5/50\n",
            "10/10 [==============================] - 297s 30s/step - loss: 0.6770 - accuracy: 0.5817 - val_loss: 0.6452 - val_accuracy: 0.5879\n",
            "Epoch 6/50\n",
            "10/10 [==============================] - 298s 30s/step - loss: 0.6519 - accuracy: 0.6166 - val_loss: 0.6435 - val_accuracy: 0.6242\n",
            "Epoch 7/50\n",
            "10/10 [==============================] - 295s 30s/step - loss: 0.6684 - accuracy: 0.6042 - val_loss: 0.6662 - val_accuracy: 0.5758\n",
            "Epoch 8/50\n",
            "10/10 [==============================] - 296s 30s/step - loss: 0.6505 - accuracy: 0.6103 - val_loss: 0.6384 - val_accuracy: 0.6545\n",
            "Epoch 9/50\n",
            "10/10 [==============================] - 300s 30s/step - loss: 0.6705 - accuracy: 0.6052 - val_loss: 0.6592 - val_accuracy: 0.6242\n",
            "Epoch 10/50\n",
            "10/10 [==============================] - 296s 30s/step - loss: 0.6549 - accuracy: 0.6076 - val_loss: 0.6372 - val_accuracy: 0.6364\n",
            "Epoch 11/50\n",
            "10/10 [==============================] - 300s 30s/step - loss: 0.6391 - accuracy: 0.6405 - val_loss: 0.8569 - val_accuracy: 0.4485\n",
            "Epoch 12/50\n",
            "10/10 [==============================] - 295s 30s/step - loss: 0.6775 - accuracy: 0.6049 - val_loss: 0.6428 - val_accuracy: 0.6515\n",
            "Epoch 13/50\n",
            "10/10 [==============================] - 294s 29s/step - loss: 0.6298 - accuracy: 0.6378 - val_loss: 0.6185 - val_accuracy: 0.6515\n",
            "Epoch 14/50\n",
            "10/10 [==============================] - 298s 30s/step - loss: 0.6613 - accuracy: 0.6378 - val_loss: 0.6346 - val_accuracy: 0.6515\n",
            "Epoch 15/50\n",
            "10/10 [==============================] - 297s 30s/step - loss: 0.6412 - accuracy: 0.6351 - val_loss: 0.6457 - val_accuracy: 0.6515\n",
            "Epoch 16/50\n",
            "10/10 [==============================] - 294s 29s/step - loss: 0.6518 - accuracy: 0.6365 - val_loss: 0.6406 - val_accuracy: 0.6576\n",
            "Epoch 17/50\n",
            "10/10 [==============================] - 293s 29s/step - loss: 0.6167 - accuracy: 0.6640 - val_loss: 0.6998 - val_accuracy: 0.5848\n",
            "Epoch 18/50\n",
            "10/10 [==============================] - 292s 29s/step - loss: 0.6324 - accuracy: 0.6465 - val_loss: 0.6053 - val_accuracy: 0.6636\n",
            "Epoch 19/50\n",
            "10/10 [==============================] - 295s 30s/step - loss: 0.6925 - accuracy: 0.6385 - val_loss: 0.6465 - val_accuracy: 0.6758\n",
            "Epoch 20/50\n",
            "10/10 [==============================] - 295s 29s/step - loss: 0.6131 - accuracy: 0.6697 - val_loss: 0.6410 - val_accuracy: 0.6485\n",
            "Epoch 21/50\n",
            "10/10 [==============================] - 295s 30s/step - loss: 0.6124 - accuracy: 0.6610 - val_loss: 0.5893 - val_accuracy: 0.6848\n",
            "Epoch 22/50\n",
            "10/10 [==============================] - 295s 29s/step - loss: 0.6000 - accuracy: 0.6798 - val_loss: 0.6200 - val_accuracy: 0.6485\n",
            "Epoch 23/50\n",
            "10/10 [==============================] - 293s 29s/step - loss: 0.6101 - accuracy: 0.6526 - val_loss: 0.5972 - val_accuracy: 0.6879\n",
            "Epoch 24/50\n",
            "10/10 [==============================] - 293s 29s/step - loss: 0.6072 - accuracy: 0.6704 - val_loss: 0.6121 - val_accuracy: 0.6818\n",
            "Epoch 25/50\n",
            "10/10 [==============================] - 294s 29s/step - loss: 0.6173 - accuracy: 0.6777 - val_loss: 0.5901 - val_accuracy: 0.7061\n",
            "Epoch 26/50\n",
            "10/10 [==============================] - 294s 29s/step - loss: 0.5857 - accuracy: 0.6882 - val_loss: 0.5858 - val_accuracy: 0.6970\n",
            "Epoch 27/50\n",
            "10/10 [==============================] - 294s 29s/step - loss: 0.6029 - accuracy: 0.6774 - val_loss: 0.5700 - val_accuracy: 0.7212\n",
            "Epoch 28/50\n",
            "10/10 [==============================] - 292s 29s/step - loss: 0.5817 - accuracy: 0.6912 - val_loss: 0.5542 - val_accuracy: 0.7061\n",
            "Epoch 29/50\n",
            "10/10 [==============================] - 294s 29s/step - loss: 0.6063 - accuracy: 0.6647 - val_loss: 0.5536 - val_accuracy: 0.7333\n",
            "Epoch 30/50\n",
            "10/10 [==============================] - 294s 29s/step - loss: 0.5705 - accuracy: 0.7076 - val_loss: 0.5373 - val_accuracy: 0.7303\n",
            "Epoch 31/50\n",
            "10/10 [==============================] - 295s 30s/step - loss: 0.5923 - accuracy: 0.6878 - val_loss: 0.5773 - val_accuracy: 0.6939\n",
            "Epoch 32/50\n",
            "10/10 [==============================] - 294s 29s/step - loss: 0.5689 - accuracy: 0.6959 - val_loss: 0.5345 - val_accuracy: 0.7091\n",
            "Epoch 33/50\n",
            "10/10 [==============================] - 294s 29s/step - loss: 0.5738 - accuracy: 0.7059 - val_loss: 0.5478 - val_accuracy: 0.7121\n",
            "Epoch 34/50\n",
            "10/10 [==============================] - 294s 29s/step - loss: 0.5861 - accuracy: 0.6962 - val_loss: 0.5704 - val_accuracy: 0.7152\n",
            "Epoch 35/50\n",
            "10/10 [==============================] - 293s 29s/step - loss: 0.5688 - accuracy: 0.7133 - val_loss: 0.5410 - val_accuracy: 0.7121\n",
            "Epoch 36/50\n",
            "10/10 [==============================] - 296s 30s/step - loss: 0.5485 - accuracy: 0.7160 - val_loss: 0.5518 - val_accuracy: 0.7152\n",
            "Epoch 37/50\n",
            "10/10 [==============================] - 294s 29s/step - loss: 0.5654 - accuracy: 0.7110 - val_loss: 0.5166 - val_accuracy: 0.7424\n",
            "Epoch 38/50\n",
            "10/10 [==============================] - 296s 30s/step - loss: 0.5525 - accuracy: 0.7083 - val_loss: 0.5269 - val_accuracy: 0.7242\n",
            "Epoch 39/50\n",
            "10/10 [==============================] - 295s 30s/step - loss: 0.5581 - accuracy: 0.7137 - val_loss: 0.5068 - val_accuracy: 0.7394\n",
            "Epoch 40/50\n",
            "10/10 [==============================] - 294s 29s/step - loss: 0.5663 - accuracy: 0.7157 - val_loss: 0.5100 - val_accuracy: 0.7333\n",
            "Epoch 41/50\n",
            "10/10 [==============================] - 296s 30s/step - loss: 0.5766 - accuracy: 0.6996 - val_loss: 0.5335 - val_accuracy: 0.7364\n",
            "Epoch 42/50\n",
            "10/10 [==============================] - 297s 30s/step - loss: 0.5431 - accuracy: 0.7210 - val_loss: 0.5717 - val_accuracy: 0.7182\n",
            "Epoch 43/50\n",
            "10/10 [==============================] - 295s 30s/step - loss: 0.5368 - accuracy: 0.7268 - val_loss: 0.5482 - val_accuracy: 0.7182\n",
            "Epoch 44/50\n",
            "10/10 [==============================] - 295s 30s/step - loss: 0.5638 - accuracy: 0.7080 - val_loss: 0.4892 - val_accuracy: 0.7455\n",
            "Epoch 45/50\n",
            "10/10 [==============================] - 295s 30s/step - loss: 0.5317 - accuracy: 0.7281 - val_loss: 0.4916 - val_accuracy: 0.7485\n",
            "Epoch 46/50\n",
            "10/10 [==============================] - 293s 29s/step - loss: 0.6047 - accuracy: 0.7086 - val_loss: 0.5094 - val_accuracy: 0.7364\n",
            "Epoch 47/50\n",
            "10/10 [==============================] - 296s 30s/step - loss: 0.5234 - accuracy: 0.7362 - val_loss: 0.5119 - val_accuracy: 0.7485\n",
            "Epoch 48/50\n",
            "10/10 [==============================] - 295s 30s/step - loss: 0.5636 - accuracy: 0.7116 - val_loss: 0.5065 - val_accuracy: 0.7485\n",
            "Epoch 49/50\n",
            "10/10 [==============================] - 297s 30s/step - loss: 0.5277 - accuracy: 0.7294 - val_loss: 0.4609 - val_accuracy: 0.7727\n",
            "Epoch 50/50\n",
            "10/10 [==============================] - 296s 30s/step - loss: 0.5226 - accuracy: 0.7372 - val_loss: 0.4967 - val_accuracy: 0.7515\n"
          ],
          "name": "stdout"
        }
      ]
    },
    {
      "cell_type": "markdown",
      "metadata": {
        "id": "6JHe44eFnNhf",
        "colab_type": "text"
      },
      "source": [
        "Plotting the data"
      ]
    },
    {
      "cell_type": "code",
      "metadata": {
        "id": "e2zVO3_InQAW",
        "colab_type": "code",
        "outputId": "8657339d-37ef-479c-9e06-56e84e8b4084",
        "colab": {
          "base_uri": "https://localhost:8080/",
          "height": 578
        }
      },
      "source": [
        "import matplotlib.pyplot as plt\n",
        "acc=history.history['accuracy']\n",
        "val_acc=history.history['val_accuracy']\n",
        "loss = history.history['loss']\n",
        "val_loss = history.history['val_loss']\n",
        "\n",
        "epoch=range(len(acc))\n",
        "\n",
        "plt.plot(epoch,acc,'r',label='Training Accuracy')\n",
        "plt.plot(epoch,val_acc,'g',label='Validation Accuracy')\n",
        "plt.title('Training and validation accuracy')\n",
        "\n",
        "plt.figure()\n",
        "\n",
        "plt.plot(epoch,loss,'r',label='Training Loss')\n",
        "plt.plot(epoch,val_loss,'g',label='Validation Loss')\n",
        "plt.title('Training and validation loss')\n",
        "plt.legend()\n",
        "\n",
        "plt.figure()"
      ],
      "execution_count": 0,
      "outputs": [
        {
          "output_type": "execute_result",
          "data": {
            "text/plain": [
              "<Figure size 432x288 with 0 Axes>"
            ]
          },
          "metadata": {
            "tags": []
          },
          "execution_count": 23
        },
        {
          "output_type": "display_data",
          "data": {
            "image/png": "[encoded data removed]",
            "text/plain": [
              "<Figure size 432x288 with 1 Axes>"
            ]
          },
          "metadata": {
            "tags": [],
            "needs_background": "light"
          }
        },
        {
          "output_type": "display_data",
          "data": {
            "image/png": "[encoded data removed]",
            "text/plain": [
              "<Figure size 432x288 with 1 Axes>"
            ]
          },
          "metadata": {
            "tags": [],
            "needs_background": "light"
          }
        },
        {
          "output_type": "display_data",
          "data": {
            "text/plain": [
              "<Figure size 432x288 with 0 Axes>"
            ]
          },
          "metadata": {
            "tags": []
          }
        }
      ]
    },
    {
      "cell_type": "markdown",
      "metadata": {
        "id": "qkEX1XPfyNMk",
        "colab_type": "text"
      },
      "source": [
        "Try it out"
      ]
    },
    {
      "cell_type": "code",
      "metadata": {
        "id": "dpw6L14RyPhZ",
        "colab_type": "code",
        "outputId": "5ac22bd2-0733-42e9-e169-3d95f7ea525a",
        "colab": {
          "resources": {
            "http://localhost:8080/nbextensions/google.colab/files.js": {
              "data": "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",
              "ok": true,
              "headers": [
                [
                  "content-type",
                  "application/javascript"
                ]
              ],
              "status": 200,
              "status_text": ""
            }
          },
          "base_uri": "https://localhost:8080/",
          "height": 108
        }
      },
      "source": [
        "from google.colab import files\n",
        "import numpy as np\n",
        "from keras.preprocessing import image\n",
        "\n",
        "uploaded=files.upload()\n",
        "\n",
        "for fn in uploaded.keys():\n",
        "  path='/content/'+fn\n",
        "  img = image.load_img(path, target_size=(300, 300))\n",
        "  x = image.img_to_array(img)\n",
        "  x = np.expand_dims(x, axis=0)\n",
        "\n",
        "  images = np.vstack([x])\n",
        "  classes = model.predict(images, batch_size=10)\n",
        "  print(classes[0])\n",
        "  if classes[0]>0.5:\n",
        "    print(fn + \" is a woman\")\n",
        "  else:\n",
        "    print(fn + \" is a man\")\n"
      ],
      "execution_count": 0,
      "outputs": [
        {
          "output_type": "display_data",
          "data": {
            "text/html": [
              "\n",
              "     <input type=\"file\" id=\"files-6634cad1-af84-4bd9-a8d5-4bf217985489\" name=\"files[]\" multiple disabled />\n",
              "     <output id=\"result-6634cad1-af84-4bd9-a8d5-4bf217985489\">\n",
              "      Upload widget is only available when the cell has been executed in the\n",
              "      current browser session. Please rerun this cell to enable.\n",
              "      </output>\n",
              "      <script src=\"/nbextensions/google.colab/files.js\"></script> "
            ],
            "text/plain": [
              "<IPython.core.display.HTML object>"
            ]
          },
          "metadata": {
            "tags": []
          }
        },
        {
          "output_type": "stream",
          "text": [
            "Saving 219_05_busbusiness_interviewHeader_1485x1254.jpg to 219_05_busbusiness_interviewHeader_1485x1254 (1).jpg\n",
            "[0.]\n",
            "219_05_busbusiness_interviewHeader_1485x1254.jpg is a man\n"
          ],
          "name": "stdout"
        }
      ]
    }
  ]
}